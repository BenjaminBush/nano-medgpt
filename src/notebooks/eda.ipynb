{
 "cells": [
  {
   "cell_type": "code",
   "execution_count": 1,
   "metadata": {},
   "outputs": [],
   "source": [
    "import pandas as pd\n",
    "from src.datasets.utils import *\n",
    "import base64\n",
    "import re"
   ]
  },
  {
   "cell_type": "code",
   "execution_count": 2,
   "metadata": {},
   "outputs": [],
   "source": [
    "df = read_raw_files(parts=[0])"
   ]
  },
  {
   "cell_type": "code",
   "execution_count": 3,
   "metadata": {},
   "outputs": [
    {
     "data": {
      "text/plain": [
       "(47644, 8)"
      ]
     },
     "execution_count": 3,
     "metadata": {},
     "output_type": "execute_result"
    }
   ],
   "source": [
    "df.shape"
   ]
  },
  {
   "cell_type": "code",
   "execution_count": 4,
   "metadata": {},
   "outputs": [
    {
     "data": {
      "text/html": [
       "<div>\n",
       "<style scoped>\n",
       "    .dataframe tbody tr th:only-of-type {\n",
       "        vertical-align: middle;\n",
       "    }\n",
       "\n",
       "    .dataframe tbody tr th {\n",
       "        vertical-align: top;\n",
       "    }\n",
       "\n",
       "    .dataframe thead th {\n",
       "        text-align: right;\n",
       "    }\n",
       "</style>\n",
       "<table border=\"1\" class=\"dataframe\">\n",
       "  <thead>\n",
       "    <tr style=\"text-align: right;\">\n",
       "      <th></th>\n",
       "      <th>note_id</th>\n",
       "      <th>subject_id</th>\n",
       "      <th>hadm_id_</th>\n",
       "      <th>note_type</th>\n",
       "      <th>note_seq</th>\n",
       "      <th>charttime</th>\n",
       "      <th>storetime</th>\n",
       "      <th>text</th>\n",
       "    </tr>\n",
       "  </thead>\n",
       "  <tbody>\n",
       "    <tr>\n",
       "      <th>21936</th>\n",
       "      <td>11619087-DS-47</td>\n",
       "      <td>11619087</td>\n",
       "      <td>29304822</td>\n",
       "      <td>DS</td>\n",
       "      <td>47</td>\n",
       "      <td>2129-02-03 00:00:00</td>\n",
       "      <td>2129-02-03 20:39:00</td>\n",
       "      <td>\\nName:  ___                   Unit No:   ___...</td>\n",
       "    </tr>\n",
       "    <tr>\n",
       "      <th>38483</th>\n",
       "      <td>17147859-DS-29</td>\n",
       "      <td>17147859</td>\n",
       "      <td>29720850</td>\n",
       "      <td>DS</td>\n",
       "      <td>29</td>\n",
       "      <td>2202-04-26 00:00:00</td>\n",
       "      <td>2202-04-27 17:50:00</td>\n",
       "      <td>\\nName:  ___                     Unit No:   _...</td>\n",
       "    </tr>\n",
       "    <tr>\n",
       "      <th>23532</th>\n",
       "      <td>11303674-DS-28</td>\n",
       "      <td>11303674</td>\n",
       "      <td>24464301</td>\n",
       "      <td>DS</td>\n",
       "      <td>28</td>\n",
       "      <td>2129-05-29 00:00:00</td>\n",
       "      <td>2129-05-29 19:40:00</td>\n",
       "      <td>\\nName:  ___                 Unit No:   ___\\n...</td>\n",
       "    </tr>\n",
       "    <tr>\n",
       "      <th>8767</th>\n",
       "      <td>10117273-DS-13</td>\n",
       "      <td>10117273</td>\n",
       "      <td>20546704</td>\n",
       "      <td>DS</td>\n",
       "      <td>13</td>\n",
       "      <td>2188-06-16 00:00:00</td>\n",
       "      <td>2188-06-17 16:30:00</td>\n",
       "      <td>\\nName:  ___                Unit No:   ___\\n ...</td>\n",
       "    </tr>\n",
       "    <tr>\n",
       "      <th>32496</th>\n",
       "      <td>18198488-DS-20</td>\n",
       "      <td>18198488</td>\n",
       "      <td>25840808</td>\n",
       "      <td>DS</td>\n",
       "      <td>20</td>\n",
       "      <td>2124-09-11 00:00:00</td>\n",
       "      <td>2124-09-12 14:25:00</td>\n",
       "      <td>\\nName:  ___                   Unit No:   ___...</td>\n",
       "    </tr>\n",
       "  </tbody>\n",
       "</table>\n",
       "</div>"
      ],
      "text/plain": [
       "              note_id  subject_id  hadm_id_ note_type  note_seq  \\\n",
       "21936  11619087-DS-47    11619087  29304822        DS        47   \n",
       "38483  17147859-DS-29    17147859  29720850        DS        29   \n",
       "23532  11303674-DS-28    11303674  24464301        DS        28   \n",
       "8767   10117273-DS-13    10117273  20546704        DS        13   \n",
       "32496  18198488-DS-20    18198488  25840808        DS        20   \n",
       "\n",
       "                 charttime            storetime  \\\n",
       "21936  2129-02-03 00:00:00  2129-02-03 20:39:00   \n",
       "38483  2202-04-26 00:00:00  2202-04-27 17:50:00   \n",
       "23532  2129-05-29 00:00:00  2129-05-29 19:40:00   \n",
       "8767   2188-06-16 00:00:00  2188-06-17 16:30:00   \n",
       "32496  2124-09-11 00:00:00  2124-09-12 14:25:00   \n",
       "\n",
       "                                                    text  \n",
       "21936   \\nName:  ___                   Unit No:   ___...  \n",
       "38483   \\nName:  ___                     Unit No:   _...  \n",
       "23532   \\nName:  ___                 Unit No:   ___\\n...  \n",
       "8767    \\nName:  ___                Unit No:   ___\\n ...  \n",
       "32496   \\nName:  ___                   Unit No:   ___...  "
      ]
     },
     "execution_count": 4,
     "metadata": {},
     "output_type": "execute_result"
    }
   ],
   "source": [
    "df.sample(5)"
   ]
  },
  {
   "cell_type": "code",
   "execution_count": 5,
   "metadata": {},
   "outputs": [],
   "source": [
    "notes = df.text"
   ]
  },
  {
   "cell_type": "code",
   "execution_count": 6,
   "metadata": {},
   "outputs": [],
   "source": [
    "concatenated_notes = notes.str.cat(sep='\\n')"
   ]
  },
  {
   "cell_type": "code",
   "execution_count": 7,
   "metadata": {},
   "outputs": [
    {
     "data": {
      "text/plain": [
       "501821605"
      ]
     },
     "execution_count": 7,
     "metadata": {},
     "output_type": "execute_result"
    }
   ],
   "source": [
    "len(concatenated_notes)"
   ]
  },
  {
   "cell_type": "code",
   "execution_count": 10,
   "metadata": {},
   "outputs": [],
   "source": [
    "# Get the unique characters in the concatenated notes\n",
    "def get_unique_chars(text):\n",
    "    unique_chars = ''.join(set(text))\n",
    "    chars = [x.encode('ascii', 'ignore').decode(\"utf-8\") for x in unique_chars]\n",
    "    chars = set(sorted(chars))\n",
    "    return chars\n",
    "\n",
    "def clean_text(text):\n",
    "    text = text.lower()\n",
    "    text = re.sub(r'[^a-zA-Z0-9\\s]', '', text)\n",
    "    text = text.replace(\"\\n\", \" \")\n",
    "    return text\n",
    "\n",
    "def clean_text_chunked(text, chunk_size=10000):\n",
    "    cleaned_text = \"\"\n",
    "    start = 0\n",
    "    n_chunks = len(text)/chunk_size + 1\n",
    "    print(\"There are {} chunks to process\".format(n_chunks))\n",
    "    while start < len(text):\n",
    "        chunk = text[start:start+chunk_size]\n",
    "        cleaned_chunk = clean_text(chunk)\n",
    "        cleaned_text += cleaned_chunk\n",
    "        start += chunk_size\n",
    "        if start % (chunk_size*1000) == 0:\n",
    "            print(\"Processed {} chunks\".format(start/chunk_size))\n",
    "    return cleaned_text"
   ]
  },
  {
   "cell_type": "code",
   "execution_count": 11,
   "metadata": {},
   "outputs": [
    {
     "name": "stdout",
     "output_type": "stream",
     "text": [
      "There are 50183.1605 chunks to process\n",
      "Processed 1000.0 chunks\n",
      "Processed 2000.0 chunks\n",
      "Processed 3000.0 chunks\n",
      "Processed 4000.0 chunks\n",
      "Processed 5000.0 chunks\n",
      "Processed 6000.0 chunks\n",
      "Processed 7000.0 chunks\n",
      "Processed 8000.0 chunks\n",
      "Processed 9000.0 chunks\n",
      "Processed 10000.0 chunks\n",
      "Processed 11000.0 chunks\n",
      "Processed 12000.0 chunks\n",
      "Processed 13000.0 chunks\n",
      "Processed 14000.0 chunks\n",
      "Processed 15000.0 chunks\n",
      "Processed 16000.0 chunks\n",
      "Processed 17000.0 chunks\n",
      "Processed 18000.0 chunks\n",
      "Processed 19000.0 chunks\n",
      "Processed 20000.0 chunks\n",
      "Processed 21000.0 chunks\n",
      "Processed 22000.0 chunks\n",
      "Processed 23000.0 chunks\n",
      "Processed 24000.0 chunks\n",
      "Processed 25000.0 chunks\n",
      "Processed 26000.0 chunks\n",
      "Processed 27000.0 chunks\n",
      "Processed 28000.0 chunks\n",
      "Processed 29000.0 chunks\n",
      "Processed 30000.0 chunks\n",
      "Processed 31000.0 chunks\n",
      "Processed 32000.0 chunks\n",
      "Processed 33000.0 chunks\n",
      "Processed 34000.0 chunks\n",
      "Processed 35000.0 chunks\n",
      "Processed 36000.0 chunks\n",
      "Processed 37000.0 chunks\n",
      "Processed 38000.0 chunks\n",
      "Processed 39000.0 chunks\n",
      "Processed 40000.0 chunks\n",
      "Processed 41000.0 chunks\n",
      "Processed 42000.0 chunks\n",
      "Processed 43000.0 chunks\n",
      "Processed 44000.0 chunks\n",
      "Processed 45000.0 chunks\n",
      "Processed 46000.0 chunks\n",
      "Processed 47000.0 chunks\n",
      "Processed 48000.0 chunks\n",
      "Processed 49000.0 chunks\n",
      "Processed 50000.0 chunks\n"
     ]
    }
   ],
   "source": [
    "cleaned_notes = clean_text_chunked(concatenated_notes)"
   ]
  },
  {
   "cell_type": "code",
   "execution_count": 15,
   "metadata": {},
   "outputs": [
    {
     "data": {
      "text/plain": [
       "' a  year old male who complains of right\\nsided abdominal pain patient presents with 2 days of right\\nlower quadrant pain patient states noticed it while\\nwalking patients noticed intermittent pain worsens\\npatient had no relief with peptobismol patient denies\\nfevers or chills patient reports some anore'"
      ]
     },
     "execution_count": 15,
     "metadata": {},
     "output_type": "execute_result"
    }
   ],
   "source": [
    "cleaned_notes[300:600]"
   ]
  },
  {
   "cell_type": "code",
   "execution_count": null,
   "metadata": {},
   "outputs": [],
   "source": []
  }
 ],
 "metadata": {
  "kernelspec": {
   "display_name": "nano-medgpt",
   "language": "python",
   "name": "python3"
  },
  "language_info": {
   "codemirror_mode": {
    "name": "ipython",
    "version": 3
   },
   "file_extension": ".py",
   "mimetype": "text/x-python",
   "name": "python",
   "nbconvert_exporter": "python",
   "pygments_lexer": "ipython3",
   "version": "3.10.11"
  },
  "orig_nbformat": 4
 },
 "nbformat": 4,
 "nbformat_minor": 2
}
