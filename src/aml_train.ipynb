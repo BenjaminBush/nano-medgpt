{
 "cells": [
  {
   "cell_type": "code",
   "execution_count": 22,
   "metadata": {},
   "outputs": [
    {
     "name": "stdout",
     "output_type": "stream",
     "text": [
      "Azure ML SDK Version:  1.53.0\n"
     ]
    }
   ],
   "source": [
    "import torch\n",
    "from torch.nn import functional as F\n",
    "from src.datasets.utils import *\n",
    "from src.models.bigram import BigramLM\n",
    "from src.models.gpt import *\n",
    "import random\n",
    "import pickle\n",
    "\n",
    "import azureml\n",
    "from azureml.core import Workspace, Datastore, Experiment, Run, Environment, ScriptRunConfig\n",
    "from azureml.core.compute import ComputeTarget, AmlCompute, AksCompute, ComputeTarget\n",
    "from azureml.train.dnn import PyTorch\n",
    "\n",
    "from azureml.core.webservice import Webservice, AksWebservice, AciWebservice\n",
    "from azureml.core.dataset import Dataset\n",
    "from azureml.core.resource_configuration import ResourceConfiguration\n",
    "from azureml.core.conda_dependencies import CondaDependencies \n",
    "\n",
    "from azureml.fsspec import AzureMachineLearningFileSystem\n",
    "\n",
    "# check core SDK version number\n",
    "print(\"Azure ML SDK Version: \", azureml.core.VERSION)"
   ]
  },
  {
   "cell_type": "code",
   "execution_count": 23,
   "metadata": {},
   "outputs": [
    {
     "name": "stdout",
     "output_type": "stream",
     "text": [
      "Workspace:NanoMedGPT\n"
     ]
    }
   ],
   "source": [
    "ws = Workspace.from_config()\n",
    "print(\"Workspace:{}\".format(ws.name))"
   ]
  },
  {
   "cell_type": "code",
   "execution_count": 24,
   "metadata": {},
   "outputs": [
    {
     "name": "stdout",
     "output_type": "stream",
     "text": [
      "Compute Target:GPU-Cluster\n"
     ]
    }
   ],
   "source": [
    "compute_target = ComputeTarget(workspace=ws, name=\"GPU-Cluster\")\n",
    "print(\"Compute Target:{}\".format(compute_target.name))"
   ]
  },
  {
   "cell_type": "code",
   "execution_count": 25,
   "metadata": {},
   "outputs": [
    {
     "name": "stdout",
     "output_type": "stream",
     "text": [
      "Datastore:workspaceblobstore\n"
     ]
    }
   ],
   "source": [
    "ds = Datastore.get_default(ws)\n",
    "print(\"Datastore:{}\".format(ds.name))"
   ]
  },
  {
   "cell_type": "code",
   "execution_count": 6,
   "metadata": {},
   "outputs": [],
   "source": [
    "exp = Experiment(workspace=ws, name=\"LocalVsCode-NanoMedGPT\")"
   ]
  },
  {
   "cell_type": "code",
   "execution_count": 16,
   "metadata": {},
   "outputs": [
    {
     "data": {
      "text/plain": [
       "['part_0_encoded.pt',\n",
       " 'part_1_encoded.pt',\n",
       " 'part_2_encoded.pt',\n",
       " 'part_3_encoded.pt',\n",
       " 'part_4_encoded.pt',\n",
       " 'part_5_encoded.pt',\n",
       " 'part_6_encoded.pt']"
      ]
     },
     "execution_count": 16,
     "metadata": {},
     "output_type": "execute_result"
    }
   ],
   "source": [
    "os.listdir(PROCESSED_DATA_PATH)"
   ]
  },
  {
   "cell_type": "code",
   "execution_count": 19,
   "metadata": {},
   "outputs": [
    {
     "name": "stdout",
     "output_type": "stream",
     "text": [
      "Validating arguments.\n",
      "Arguments validated.\n",
      "'overwrite' is set to True. Any file already present in the target will be overwritten.\n",
      "Uploading files from 'c:/users/ben/git/nano_medgpt/data/processed' to 'encodings/'\n",
      "Creating new dataset\n"
     ]
    }
   ],
   "source": [
    "from azureml.data.dataset_factory import FileDatasetFactory\n",
    "ret = FileDatasetFactory.upload_directory(\n",
    "    PROCESSED_DATA_PATH,\n",
    "    (ds, \"encodings/\"),\n",
    "    overwrite=True,\n",
    "    show_progress=True\n",
    ")"
   ]
  },
  {
   "cell_type": "code",
   "execution_count": 20,
   "metadata": {},
   "outputs": [
    {
     "data": {
      "text/plain": [
       "azureml.data.file_dataset.FileDataset"
      ]
     },
     "execution_count": 20,
     "metadata": {},
     "output_type": "execute_result"
    }
   ],
   "source": [
    "type(ret)"
   ]
  },
  {
   "cell_type": "code",
   "execution_count": 31,
   "metadata": {},
   "outputs": [
    {
     "name": "stdout",
     "output_type": "stream",
     "text": [
      "Exporting conda specifications for existing conda environment: nano-medgpt\n"
     ]
    }
   ],
   "source": [
    "curated_env_name = 'AML-PyTorch-GPU'\n",
    "pytorch_env = Environment.from_existing_conda_environment(\"nano-medgpt\", \"nano-medgpt\")"
   ]
  },
  {
   "cell_type": "code",
   "execution_count": 40,
   "metadata": {},
   "outputs": [],
   "source": [
    "src = ScriptRunConfig(\n",
    "    source_directory= ROOT_DIR + \"\\\\src\\\\\",\n",
    "    script = 'train.py',\n",
    "    arguments=['--data-folder', ret.as_mount()],\n",
    "    compute_target=compute_target,\n",
    "    environment=pytorch_env\n",
    ")"
   ]
  },
  {
   "cell_type": "code",
   "execution_count": 41,
   "metadata": {},
   "outputs": [],
   "source": [
    "run = exp.submit(src)"
   ]
  },
  {
   "cell_type": "code",
   "execution_count": 42,
   "metadata": {},
   "outputs": [
    {
     "data": {
      "application/vnd.jupyter.widget-view+json": {
       "model_id": "d48bbe2d478744c3ae29b5e536b746dd",
       "version_major": 2,
       "version_minor": 0
      },
      "text/plain": [
       "_UserRunWidget(widget_settings={'childWidgetDisplay': 'popup', 'send_telemetry': False, 'log_level': 'INFO', '…"
      ]
     },
     "metadata": {},
     "output_type": "display_data"
    },
    {
     "data": {
      "application/aml.mini.widget.v1": "{\"status\": \"Failed\", \"workbench_run_details_uri\": \"https://ml.azure.com/runs/LocalVsCode-NanoMedGPT_1697584136_986015f0?wsid=/subscriptions/06a4ab54-1f41-43e6-8aae-e2161fb620df/resourcegroups/rg1/workspaces/NanoMedGPT&tid=e77799cf-77ab-400c-ac12-ba83b527dd2b\", \"run_id\": \"LocalVsCode-NanoMedGPT_1697584136_986015f0\", \"run_properties\": {\"run_id\": \"LocalVsCode-NanoMedGPT_1697584136_986015f0\", \"created_utc\": \"2023-10-17T23:08:58.810481Z\", \"properties\": {\"_azureml.ComputeTargetType\": \"amlctrain\", \"ContentSnapshotId\": \"0d6dec72-7012-40d7-9562-211d94ef35dc\", \"azureml.git.repository_uri\": \"https://github.com/BenjaminBush/nano-medgpt.git\", \"mlflow.source.git.repoURL\": \"https://github.com/BenjaminBush/nano-medgpt.git\", \"azureml.git.branch\": \"main\", \"mlflow.source.git.branch\": \"main\", \"azureml.git.commit\": \"0ccab5988bc155d938a99616cad99e6f74d1dfca\", \"mlflow.source.git.commit\": \"0ccab5988bc155d938a99616cad99e6f74d1dfca\", \"azureml.git.dirty\": \"True\"}, \"tags\": {}, \"script_name\": null, \"arguments\": null, \"end_time_utc\": \"2023-10-17T23:09:01.533414Z\", \"status\": \"Failed\", \"log_files\": {}, \"log_groups\": [], \"run_duration\": \"0:00:02\", \"run_number\": \"1697584138\", \"run_queued_details\": {\"status\": \"Failed\", \"details\": null}}, \"child_runs\": [], \"children_metrics\": {}, \"run_metrics\": [], \"run_logs\": \"\\nError occurred: Unable to get image details : Unable to fetch workspace resources: The Resource 'Microsoft.ContainerRegistry/registries/8131f90f0b224720bc8b3c77d1b6d63d' under resource group 'rg1' was not found. For more details please go to https://aka.ms/ARMResourceNotFoundFix.\\n\", \"graph\": {}, \"widget_settings\": {\"childWidgetDisplay\": \"popup\", \"send_telemetry\": false, \"log_level\": \"INFO\", \"sdk_version\": \"1.53.0\"}, \"loading\": false}"
     },
     "metadata": {},
     "output_type": "display_data"
    }
   ],
   "source": [
    "from azureml.widgets import RunDetails\n",
    "\n",
    "RunDetails(run).show()"
   ]
  },
  {
   "cell_type": "code",
   "execution_count": null,
   "metadata": {},
   "outputs": [],
   "source": []
  }
 ],
 "metadata": {
  "kernelspec": {
   "display_name": "nano-medgpt",
   "language": "python",
   "name": "python3"
  },
  "language_info": {
   "codemirror_mode": {
    "name": "ipython",
    "version": 3
   },
   "file_extension": ".py",
   "mimetype": "text/x-python",
   "name": "python",
   "nbconvert_exporter": "python",
   "pygments_lexer": "ipython3",
   "version": "3.10.11"
  }
 },
 "nbformat": 4,
 "nbformat_minor": 2
}
