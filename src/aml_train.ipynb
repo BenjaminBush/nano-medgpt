{
 "cells": [
  {
   "cell_type": "code",
   "execution_count": 1,
   "metadata": {},
   "outputs": [
    {
     "name": "stdout",
     "output_type": "stream",
     "text": [
      "Azure ML SDK Version:  1.53.0\n"
     ]
    }
   ],
   "source": [
    "import torch\n",
    "from torch.nn import functional as F\n",
    "from src.datasets.utils import *\n",
    "from src.models.bigram import BigramLM\n",
    "from src.models.gpt import *\n",
    "import random\n",
    "import pickle\n",
    "\n",
    "import azureml\n",
    "from azureml.core import Workspace, Datastore, Experiment, Run, Environment, ScriptRunConfig\n",
    "from azureml.core.compute import ComputeTarget, AmlCompute, AksCompute, ComputeTarget\n",
    "from azureml.train.dnn import PyTorch\n",
    "\n",
    "from azureml.core.webservice import Webservice, AksWebservice, AciWebservice\n",
    "from azureml.core.dataset import Dataset\n",
    "from azureml.core.resource_configuration import ResourceConfiguration\n",
    "from azureml.core.conda_dependencies import CondaDependencies \n",
    "\n",
    "from azureml.fsspec import AzureMachineLearningFileSystem\n",
    "\n",
    "# check core SDK version number\n",
    "print(\"Azure ML SDK Version: \", azureml.core.VERSION)"
   ]
  },
  {
   "cell_type": "code",
   "execution_count": 2,
   "metadata": {},
   "outputs": [
    {
     "name": "stdout",
     "output_type": "stream",
     "text": [
      "Workspace:NanoMedGPT\n"
     ]
    }
   ],
   "source": [
    "ws = Workspace.from_config()\n",
    "print(\"Workspace:{}\".format(ws.name))"
   ]
  },
  {
   "cell_type": "code",
   "execution_count": 3,
   "metadata": {},
   "outputs": [
    {
     "name": "stdout",
     "output_type": "stream",
     "text": [
      "Compute Target:GPU-Cluster\n"
     ]
    }
   ],
   "source": [
    "compute_target = ComputeTarget(workspace=ws, name=\"GPU-Cluster\")\n",
    "print(\"Compute Target:{}\".format(compute_target.name))"
   ]
  },
  {
   "cell_type": "code",
   "execution_count": 4,
   "metadata": {},
   "outputs": [
    {
     "name": "stdout",
     "output_type": "stream",
     "text": [
      "Datastore:workspaceblobstore\n"
     ]
    }
   ],
   "source": [
    "ds = Datastore.get_default(ws)\n",
    "print(\"Datastore:{}\".format(ds.name))"
   ]
  },
  {
   "cell_type": "code",
   "execution_count": 5,
   "metadata": {},
   "outputs": [],
   "source": [
    "exp = Experiment(workspace=ws, name=\"LocalVsCode-NanoMedGPT\")"
   ]
  },
  {
   "cell_type": "code",
   "execution_count": 6,
   "metadata": {},
   "outputs": [
    {
     "data": {
      "text/plain": [
       "['part_0_encoded.pt',\n",
       " 'part_1_encoded.pt',\n",
       " 'part_2_encoded.pt',\n",
       " 'part_3_encoded.pt',\n",
       " 'part_4_encoded.pt',\n",
       " 'part_5_encoded.pt',\n",
       " 'part_6_encoded.pt']"
      ]
     },
     "execution_count": 6,
     "metadata": {},
     "output_type": "execute_result"
    }
   ],
   "source": [
    "os.listdir(PROCESSED_DATA_PATH)"
   ]
  },
  {
   "cell_type": "code",
   "execution_count": 19,
   "metadata": {},
   "outputs": [
    {
     "name": "stdout",
     "output_type": "stream",
     "text": [
      "Validating arguments.\n",
      "Arguments validated.\n",
      "'overwrite' is set to True. Any file already present in the target will be overwritten.\n",
      "Uploading files from 'c:/users/ben/git/nano_medgpt/data/processed' to 'encodings/'\n",
      "Creating new dataset\n"
     ]
    }
   ],
   "source": [
    "\"\"\" Upload to cloud \"\"\"\n",
    "# from azureml.data.dataset_factory import FileDatasetFactory\n",
    "# ret = FileDatasetFactory.upload_directory(\n",
    "#     PROCESSED_DATA_PATH,\n",
    "#     (ds, \"encodings/\"),\n",
    "#     overwrite=True,\n",
    "#     show_progress=True\n",
    "# )"
   ]
  },
  {
   "cell_type": "code",
   "execution_count": 9,
   "metadata": {},
   "outputs": [],
   "source": [
    "\"\"\" Get FileDataSetFactory from cloud \"\"\"\n",
    "from azureml.data.dataset_factory import FileDatasetFactory\n",
    "path = (ds, \"encodings/\")\n",
    "ret = FileDatasetFactory.from_files(path)"
   ]
  },
  {
   "cell_type": "code",
   "execution_count": 13,
   "metadata": {},
   "outputs": [
    {
     "data": {
      "text/plain": [
       "azureml.data.file_dataset.FileDataset"
      ]
     },
     "execution_count": 13,
     "metadata": {},
     "output_type": "execute_result"
    }
   ],
   "source": [
    "type(ret)"
   ]
  },
  {
   "cell_type": "code",
   "execution_count": 71,
   "metadata": {},
   "outputs": [],
   "source": [
    "conda_spec_file = ROOT_DIR + \"\\\\nano_medgpt_env.yml\"\n",
    "pytorch_env = Environment.from_conda_specification(\"nano_medgpt\", conda_spec_file)"
   ]
  },
  {
   "cell_type": "code",
   "execution_count": 72,
   "metadata": {},
   "outputs": [],
   "source": [
    "src = ScriptRunConfig(\n",
    "    source_directory= ROOT_DIR + \"\\\\src\\\\\",\n",
    "    script = 'train.py',\n",
    "    arguments=['--data-folder', ret.as_mount()],\n",
    "    compute_target=compute_target,\n",
    "    environment=pytorch_env\n",
    ")"
   ]
  },
  {
   "cell_type": "code",
   "execution_count": 73,
   "metadata": {},
   "outputs": [],
   "source": [
    "run = exp.submit(src)"
   ]
  },
  {
   "cell_type": "code",
   "execution_count": 74,
   "metadata": {},
   "outputs": [
    {
     "data": {
      "application/vnd.jupyter.widget-view+json": {
       "model_id": "df0dbf561d7f40d882c15df66e05369f",
       "version_major": 2,
       "version_minor": 0
      },
      "text/plain": [
       "_UserRunWidget(widget_settings={'childWidgetDisplay': 'popup', 'send_telemetry': False, 'log_level': 'INFO', '…"
      ]
     },
     "metadata": {},
     "output_type": "display_data"
    },
    {
     "data": {
      "application/aml.mini.widget.v1": "{\"loading\": true}"
     },
     "metadata": {},
     "output_type": "display_data"
    }
   ],
   "source": [
    "from azureml.widgets import RunDetails\n",
    "\n",
    "RunDetails(run).show()"
   ]
  },
  {
   "cell_type": "code",
   "execution_count": null,
   "metadata": {},
   "outputs": [],
   "source": []
  }
 ],
 "metadata": {
  "kernelspec": {
   "display_name": "nano-medgpt",
   "language": "python",
   "name": "python3"
  },
  "language_info": {
   "codemirror_mode": {
    "name": "ipython",
    "version": 3
   },
   "file_extension": ".py",
   "mimetype": "text/x-python",
   "name": "python",
   "nbconvert_exporter": "python",
   "pygments_lexer": "ipython3",
   "version": "3.10.11"
  }
 },
 "nbformat": 4,
 "nbformat_minor": 2
}
